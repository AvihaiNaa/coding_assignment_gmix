{
 "cells": [
  {
   "cell_type": "code",
   "execution_count": 53,
   "metadata": {},
   "outputs": [],
   "source": [
    "import pandas as pd\n",
    "from sklearn.model_selection import train_test_split, GridSearchCV\n",
    "from sklearn.linear_model import LinearRegression\n",
    "from sklearn.tree import DecisionTreeRegressor\n",
    "from sklearn.ensemble import RandomForestRegressor, GradientBoostingRegressor\n",
    "from sklearn.metrics import mean_absolute_error, mean_squared_error, r2_score\n",
    "import matplotlib.pyplot as plt\n",
    "import seaborn as sns\n",
    "from sklearn.preprocessing import OneHotEncoder, StandardScaler\n",
    "import numpy as np\n",
    "import math\n",
    "from sklearn.linear_model import LinearRegression, Ridge, Lasso, BayesianRidge\n",
    "from sklearn.ensemble import RandomForestRegressor, VotingRegressor, GradientBoostingRegressor, AdaBoostRegressor\n",
    "from sklearn.neighbors import KNeighborsRegressor\n",
    "sns.set(context='notebook', style='darkgrid', palette='deep', font='sans-serif', font_scale=1, color_codes=False, rc=None)\n",
    "\n"
   ]
  },
  {
   "attachments": {},
   "cell_type": "markdown",
   "metadata": {},
   "source": [
    "### Loading the Data into train and test"
   ]
  },
  {
   "cell_type": "code",
   "execution_count": 21,
   "metadata": {},
   "outputs": [],
   "source": [
    "# Load the dataset\n",
    "data = pd.read_csv('./data/surgery_data.csv', index_col=0)\n",
    "\n",
    "# Split the data into features (X) and target variable (y)\n",
    "X = data\n",
    "y = data\n",
    "\n",
    "\n",
    "# Split the data into training set and test set\n",
    "X_train, X_test, y_train, y_test = train_test_split(X, y, test_size=0.2, random_state=42)\n",
    "X_train, X_val, y_train, y_val = train_test_split(X_train, y_train, test_size=0.1, random_state=42)\n"
   ]
  },
  {
   "cell_type": "code",
   "execution_count": 22,
   "metadata": {},
   "outputs": [
    {
     "data": {
      "text/html": [
       "<div>\n",
       "<style scoped>\n",
       "    .dataframe tbody tr th:only-of-type {\n",
       "        vertical-align: middle;\n",
       "    }\n",
       "\n",
       "    .dataframe tbody tr th {\n",
       "        vertical-align: top;\n",
       "    }\n",
       "\n",
       "    .dataframe thead th {\n",
       "        text-align: right;\n",
       "    }\n",
       "</style>\n",
       "<table border=\"1\" class=\"dataframe\">\n",
       "  <thead>\n",
       "    <tr style=\"text-align: right;\">\n",
       "      <th></th>\n",
       "      <th>Surgery Type</th>\n",
       "      <th>Anesthesia Type</th>\n",
       "      <th>Age</th>\n",
       "      <th>BMI</th>\n",
       "      <th>DoctorID</th>\n",
       "      <th>AnaesthetistID</th>\n",
       "      <th>Duration in Minutes</th>\n",
       "    </tr>\n",
       "  </thead>\n",
       "  <tbody>\n",
       "    <tr>\n",
       "      <th>count</th>\n",
       "      <td>7200.000000</td>\n",
       "      <td>7200.000000</td>\n",
       "      <td>7200.000000</td>\n",
       "      <td>7200.000000</td>\n",
       "      <td>7200.000000</td>\n",
       "      <td>7200.000000</td>\n",
       "      <td>7200.000000</td>\n",
       "    </tr>\n",
       "    <tr>\n",
       "      <th>mean</th>\n",
       "      <td>1.990972</td>\n",
       "      <td>0.496528</td>\n",
       "      <td>49.489028</td>\n",
       "      <td>24.442222</td>\n",
       "      <td>558630.596250</td>\n",
       "      <td>549441.338056</td>\n",
       "      <td>114.568056</td>\n",
       "    </tr>\n",
       "    <tr>\n",
       "      <th>std</th>\n",
       "      <td>1.414332</td>\n",
       "      <td>0.500023</td>\n",
       "      <td>9.969276</td>\n",
       "      <td>5.048947</td>\n",
       "      <td>257820.075509</td>\n",
       "      <td>257793.263140</td>\n",
       "      <td>54.473408</td>\n",
       "    </tr>\n",
       "    <tr>\n",
       "      <th>min</th>\n",
       "      <td>0.000000</td>\n",
       "      <td>0.000000</td>\n",
       "      <td>13.000000</td>\n",
       "      <td>7.000000</td>\n",
       "      <td>100097.000000</td>\n",
       "      <td>100162.000000</td>\n",
       "      <td>15.000000</td>\n",
       "    </tr>\n",
       "    <tr>\n",
       "      <th>25%</th>\n",
       "      <td>1.000000</td>\n",
       "      <td>0.000000</td>\n",
       "      <td>43.000000</td>\n",
       "      <td>21.000000</td>\n",
       "      <td>336513.250000</td>\n",
       "      <td>328387.250000</td>\n",
       "      <td>59.000000</td>\n",
       "    </tr>\n",
       "    <tr>\n",
       "      <th>50%</th>\n",
       "      <td>2.000000</td>\n",
       "      <td>0.000000</td>\n",
       "      <td>50.000000</td>\n",
       "      <td>24.000000</td>\n",
       "      <td>563976.000000</td>\n",
       "      <td>547798.000000</td>\n",
       "      <td>131.000000</td>\n",
       "    </tr>\n",
       "    <tr>\n",
       "      <th>75%</th>\n",
       "      <td>3.000000</td>\n",
       "      <td>1.000000</td>\n",
       "      <td>56.000000</td>\n",
       "      <td>28.000000</td>\n",
       "      <td>778242.000000</td>\n",
       "      <td>770507.000000</td>\n",
       "      <td>161.000000</td>\n",
       "    </tr>\n",
       "    <tr>\n",
       "      <th>max</th>\n",
       "      <td>4.000000</td>\n",
       "      <td>1.000000</td>\n",
       "      <td>88.000000</td>\n",
       "      <td>43.000000</td>\n",
       "      <td>999995.000000</td>\n",
       "      <td>999907.000000</td>\n",
       "      <td>232.000000</td>\n",
       "    </tr>\n",
       "  </tbody>\n",
       "</table>\n",
       "</div>"
      ],
      "text/plain": [
       "       Surgery Type  Anesthesia Type          Age          BMI       DoctorID  \\\n",
       "count   7200.000000      7200.000000  7200.000000  7200.000000    7200.000000   \n",
       "mean       1.990972         0.496528    49.489028    24.442222  558630.596250   \n",
       "std        1.414332         0.500023     9.969276     5.048947  257820.075509   \n",
       "min        0.000000         0.000000    13.000000     7.000000  100097.000000   \n",
       "25%        1.000000         0.000000    43.000000    21.000000  336513.250000   \n",
       "50%        2.000000         0.000000    50.000000    24.000000  563976.000000   \n",
       "75%        3.000000         1.000000    56.000000    28.000000  778242.000000   \n",
       "max        4.000000         1.000000    88.000000    43.000000  999995.000000   \n",
       "\n",
       "       AnaesthetistID  Duration in Minutes  \n",
       "count     7200.000000          7200.000000  \n",
       "mean    549441.338056           114.568056  \n",
       "std     257793.263140            54.473408  \n",
       "min     100162.000000            15.000000  \n",
       "25%     328387.250000            59.000000  \n",
       "50%     547798.000000           131.000000  \n",
       "75%     770507.000000           161.000000  \n",
       "max     999907.000000           232.000000  "
      ]
     },
     "execution_count": 22,
     "metadata": {},
     "output_type": "execute_result"
    }
   ],
   "source": [
    "X_train.describe()"
   ]
  },
  {
   "attachments": {},
   "cell_type": "markdown",
   "metadata": {},
   "source": [
    "##### Search for feature with too much missing value"
   ]
  },
  {
   "cell_type": "code",
   "execution_count": 23,
   "metadata": {},
   "outputs": [
    {
     "name": "stdout",
     "output_type": "stream",
     "text": [
      "List of dropped columns: \n",
      "\n"
     ]
    }
   ],
   "source": [
    "df = X_train\n",
    "df2 = df[[column for column in df if df[column].count() / len(df) >= 0.3]]\n",
    "print(\"List of dropped columns:\", end=\" \")\n",
    "for c in df.columns:\n",
    "    if c not in df2.columns:\n",
    "        print(c, end=\", \")\n",
    "print('\\n')\n",
    "df = df2"
   ]
  },
  {
   "cell_type": "code",
   "execution_count": 24,
   "metadata": {},
   "outputs": [],
   "source": [
    "cat_cols = ['Surgery Type', 'Anesthesia Type', 'DoctorID', 'AnaesthetistID']\n",
    "num_cols = ['Age', 'BMI']\n",
    "target_col = 'Duration in Minutes'"
   ]
  },
  {
   "cell_type": "code",
   "execution_count": 40,
   "metadata": {},
   "outputs": [
    {
     "name": "stdout",
     "output_type": "stream",
     "text": [
      "1    9892\n",
      "2      54\n",
      "Name: DoctorID, dtype: int64\n",
      "1    9887\n",
      "2      55\n",
      "3       1\n",
      "Name: AnaesthetistID, dtype: int64\n"
     ]
    }
   ],
   "source": [
    "print(data['DoctorID'].value_counts().value_counts())\n",
    "print(data['AnaesthetistID'].value_counts().value_counts())"
   ]
  },
  {
   "cell_type": "code",
   "execution_count": 54,
   "metadata": {},
   "outputs": [
    {
     "data": {
      "image/png": "[encoded data removed]",
      "text/plain": [
       "<Figure size 432x288 with 1 Axes>"
      ]
     },
     "metadata": {},
     "output_type": "display_data"
    }
   ],
   "source": [
    "anaesthetist_counts = data['DoctorID'].value_counts()#.value_counts()\n",
    "sns.countplot(x=anaesthetist_counts.index, data=anaesthetist_counts)\n",
    "plt.xlabel('Occurrences')\n",
    "plt.ylabel('Frequency')\n",
    "plt.title('Histogram of AnaesthetistID Occurrences')\n",
    "plt.show()"
   ]
  },
  {
   "cell_type": "code",
   "execution_count": 55,
   "metadata": {},
   "outputs": [
    {
     "data": {
      "image/png": "[encoded data removed]",
      "text/plain": [
       "<Figure size 432x288 with 1 Axes>"
      ]
     },
     "metadata": {},
     "output_type": "display_data"
    }
   ],
   "source": [
    "anaesthetist_counts = data['AnaesthetistID'].value_counts()#.value_counts()\n",
    "sns.countplot(x=anaesthetist_counts.index, data=anaesthetist_counts)\n",
    "plt.xlabel('Occurrences')\n",
    "plt.ylabel('Frequency')\n",
    "plt.title('Histogram of AnaesthetistID Occurrences')\n",
    "plt.show()"
   ]
  },
  {
   "attachments": {},
   "cell_type": "markdown",
   "metadata": {},
   "source": [
    "## Drop redundant features\n",
    "It appears that we have limited information available in these two columns. The 'DoctorID' column has only a few unique doctors, with each doctor appearing only twice. Similarly, the 'AnaesthetistID' column has only one unique anaesthetist who appears three times. Consequently, these columns may not provide sufficient data for learning meaningful patterns or relationships in some models. "
   ]
  },
  {
   "cell_type": "code",
   "execution_count": 27,
   "metadata": {},
   "outputs": [],
   "source": [
    "dropped_train = X_train.drop(['DoctorID', 'AnaesthetistID'], axis=1)\n",
    "dropped_test = X_test.drop(['DoctorID', 'AnaesthetistID'], axis=1)\n",
    "dropped_val = X_val.drop(['DoctorID', 'AnaesthetistID'], axis=1)\n",
    "linreg_catcols = ['Surgery Type', 'Anesthesia Type']"
   ]
  },
  {
   "cell_type": "code",
   "execution_count": 28,
   "metadata": {},
   "outputs": [],
   "source": [
    "def data_preprocess(data, cat_cols, num_cols, target_col):\n",
    "    encoded_categorical, encoded_numerical, encoder_pred = None,None,None\n",
    "    encoded_numerical = StandardScaler().fit(data[num_cols].values)\n",
    "    encoded_categorical = OneHotEncoder(sparse=False).fit(data[cat_cols].values)\n",
    "    encoder_pred = StandardScaler().fit(data[target_col].values.reshape(-1, 1))\n",
    "    transformed_categorical = encoded_categorical.transform(data[cat_cols].values)\n",
    "    transformed_numerical = encoded_numerical.transform(data[num_cols].values)\n",
    "    target = encoder_pred.transform(data[target_col].values.reshape(-1, 1))\n",
    "    return np.hstack([transformed_categorical, transformed_numerical]), target.ravel(), (encoded_categorical, encoded_numerical, encoder_pred)"
   ]
  },
  {
   "cell_type": "code",
   "execution_count": 29,
   "metadata": {},
   "outputs": [],
   "source": [
    "x_train, y_train, encoders = data_preprocess(dropped_train, linreg_catcols, num_cols, target_col)\n",
    "x_val, y_val, _ = data_preprocess(dropped_val, linreg_catcols, num_cols, target_col)\n",
    "x_test, y_test, _ = data_preprocess(dropped_test, linreg_catcols, num_cols, target_col)"
   ]
  },
  {
   "attachments": {},
   "cell_type": "markdown",
   "metadata": {},
   "source": [
    "## Model Selection"
   ]
  },
  {
   "cell_type": "code",
   "execution_count": 30,
   "metadata": {},
   "outputs": [],
   "source": [
    "models = [\n",
    "  ('LR', LinearRegression()),\n",
    "  ('Ridge', Ridge()),\n",
    "  ('Lasso', Lasso()),\n",
    "  ('BR', BayesianRidge()),\n",
    "  ('KNR', KNeighborsRegressor()),\n",
    "  ('DT', DecisionTreeRegressor()),\n",
    "  ('RF', RandomForestRegressor()),\n",
    "  ('GB', GradientBoostingRegressor()),\n",
    "  ('AB', AdaBoostRegressor()),\n",
    "  ('VR', VotingRegressor(estimators=\n",
    "                            [\n",
    "                              ('gb', GradientBoostingRegressor()),\n",
    "                              ('rf', RandomForestRegressor()),\n",
    "                              ('dt', DecisionTreeRegressor()), \n",
    "                            ]))\n",
    "\n",
    "]"
   ]
  },
  {
   "cell_type": "code",
   "execution_count": 31,
   "metadata": {},
   "outputs": [],
   "source": [
    "def fit_model(model, x_train, y_train):\n",
    "  model.fit(x_train, y_train)\n",
    "\n",
    "# Fitting al the given models\n",
    "for (name, model) in models:\n",
    "  fit_model(model, x_train, y_train)"
   ]
  },
  {
   "cell_type": "code",
   "execution_count": 32,
   "metadata": {},
   "outputs": [],
   "source": [
    "def calc_metrics(fitted_model, x_test, y_test):\n",
    "  y_pred = fitted_model.predict(x_test)\n",
    "  y_test_decoded = encoders[2].inverse_transform(y_test.reshape(-1, 1))\n",
    "  y_pred_decoded = encoders[2].inverse_transform(y_pred.reshape(-1, 1))\n",
    "  mae = mean_absolute_error(y_test_decoded, y_pred_decoded)\n",
    "  mse = math.sqrt(mean_squared_error(y_test_decoded, y_pred_decoded))\n",
    "  return (mae, mse)"
   ]
  },
  {
   "cell_type": "code",
   "execution_count": 33,
   "metadata": {},
   "outputs": [],
   "source": [
    "model_names = [model_name for (model_name, model) in models]\n",
    "models_mae = []\n",
    "models_mse = []\n",
    "\n",
    "for (model_name, model) in models:\n",
    "  (mae, mse) = calc_metrics(model, x_test, y_test)\n",
    "  models_mae.append(mae)\n",
    "  models_mse.append(mse)\n"
   ]
  },
  {
   "cell_type": "code",
   "execution_count": 56,
   "metadata": {},
   "outputs": [
    {
     "name": "stderr",
     "output_type": "stream",
     "text": [
      "No artists with labels found to put in legend.  Note that artists whose label start with an underscore are ignored when legend() is called with no argument.\n"
     ]
    },
    {
     "data": {
      "image/png": "[encoded data removed]",
      "text/plain": [
       "<Figure size 432x288 with 1 Axes>"
      ]
     },
     "metadata": {},
     "output_type": "display_data"
    },
    {
     "name": "stdout",
     "output_type": "stream",
     "text": [
      "[16.287271321663603, 16.285203104591968, 48.310816106082335, 16.284322551895563, 17.0047456259182, 20.242663353361436, 17.688601559062125, 16.007569183720125, 16.052700597584312, 17.253957367533104]\n"
     ]
    }
   ],
   "source": [
    "X_axis = np.arange(len(model_names))\n",
    "  \n",
    "plt.bar(X_axis + 0.05, models_mae, 0.1)\n",
    "plt.bar(X_axis + 0.15, models_mse, 0.1)\n",
    "#plt.bar(X_axis + 0.25, models_mcc, 0.1)\n",
    "\n",
    "plt.xticks(X_axis, model_names)\n",
    "plt.xlabel(\"Models\")\n",
    "plt.ylabel(\"Metrics\")\n",
    "plt.title(\"Metrics of each model\")\n",
    "plt.legend()\n",
    "plt.show()\n",
    "\n",
    "print(models_mae)"
   ]
  },
  {
   "attachments": {},
   "cell_type": "markdown",
   "metadata": {},
   "source": [
    "### Hyper-Parameters Optimization\n"
   ]
  },
  {
   "cell_type": "code",
   "execution_count": 35,
   "metadata": {},
   "outputs": [
    {
     "name": "stdout",
     "output_type": "stream",
     "text": [
      "GB hyperparams:\n"
     ]
    },
    {
     "data": {
      "text/plain": [
       "{'alpha': 0.9,\n",
       " 'ccp_alpha': 0.0,\n",
       " 'criterion': 'friedman_mse',\n",
       " 'init': None,\n",
       " 'learning_rate': 0.1,\n",
       " 'loss': 'squared_error',\n",
       " 'max_depth': 3,\n",
       " 'max_features': None,\n",
       " 'max_leaf_nodes': None,\n",
       " 'min_impurity_decrease': 0.0,\n",
       " 'min_samples_leaf': 1,\n",
       " 'min_samples_split': 2,\n",
       " 'min_weight_fraction_leaf': 0.0,\n",
       " 'n_estimators': 100,\n",
       " 'n_iter_no_change': None,\n",
       " 'random_state': None,\n",
       " 'subsample': 1.0,\n",
       " 'tol': 0.0001,\n",
       " 'validation_fraction': 0.1,\n",
       " 'verbose': 0,\n",
       " 'warm_start': False}"
      ]
     },
     "execution_count": 35,
     "metadata": {},
     "output_type": "execute_result"
    }
   ],
   "source": [
    "model = GradientBoostingRegressor()\n",
    "\n",
    "print('GB hyperparams:')\n",
    "model.get_params()"
   ]
  },
  {
   "cell_type": "code",
   "execution_count": 36,
   "metadata": {},
   "outputs": [
    {
     "name": "stdout",
     "output_type": "stream",
     "text": [
      "Best Parameters:  {'learning_rate': 0.05, 'max_depth': 3, 'n_estimators': 100}\n",
      "Best Score:  0.8763543259387129\n"
     ]
    }
   ],
   "source": [
    "param_grid = {\n",
    "    'n_estimators': [100, 200, 300],\n",
    "    'learning_rate': [0.1, 0.05, 0.01],\n",
    "    'max_depth': [3, 4, 5, 7, 10]\n",
    "}\n",
    "\n",
    "# Perform grid search\n",
    "grid_search = GridSearchCV(estimator=model, param_grid=param_grid, cv=3)\n",
    "grid_search.fit(x_val, y_val)\n",
    "\n",
    "# Get the best parameters and the best score\n",
    "best_params = grid_search.best_params_\n",
    "best_score = grid_search.best_score_\n",
    "\n",
    "print(\"Best Parameters: \", best_params)\n",
    "print(\"Best Score: \", best_score)"
   ]
  },
  {
   "cell_type": "code",
   "execution_count": 37,
   "metadata": {},
   "outputs": [
    {
     "name": "stdout",
     "output_type": "stream",
     "text": [
      "The lowest mean absolute error we were able to give:  16.029052107448898\n"
     ]
    }
   ],
   "source": [
    "_n_estimators =  grid_search.best_params_[\"n_estimators\"]\n",
    "_learning_rate =  grid_search.best_params_[\"learning_rate\"]\n",
    "_max_depth =  grid_search.best_params_[\"max_depth\"]\n",
    "\n",
    "_GB = GradientBoostingRegressor(n_estimators=_n_estimators, learning_rate=_learning_rate,  max_depth=_max_depth, random_state=42).fit(x_train, y_train)\n",
    "y_pred = _GB.predict(x_test)\n",
    "y_test_decoded = encoders[2].inverse_transform(y_test.reshape(-1, 1))\n",
    "y_pred_decoded = encoders[2].inverse_transform(y_pred.reshape(-1, 1))\n",
    "mae = mean_absolute_error(y_test_decoded, y_pred_decoded)\n",
    "print(\"The lowest mean absolute error we were able to give: \", mae)"
   ]
  },
  {
   "attachments": {},
   "cell_type": "markdown",
   "metadata": {},
   "source": [
    "### Comparing predicted values with the actual values"
   ]
  },
  {
   "cell_type": "code",
   "execution_count": 52,
   "metadata": {},
   "outputs": [
    {
     "data": {
      "text/plain": [
       "<seaborn.axisgrid.FacetGrid at 0x230e4ab3520>"
      ]
     },
     "execution_count": 52,
     "metadata": {},
     "output_type": "execute_result"
    },
    {
     "data": {
      "image/png": "[encoded data removed]",
      "text/plain": [
       "<Figure size 1080x720 with 5 Axes>"
      ]
     },
     "metadata": {},
     "output_type": "display_data"
    }
   ],
   "source": [
    "sns.set(context='notebook', style='darkgrid', palette='deep', font='sans-serif', font_scale=1, color_codes=False, rc=None)\n",
    "sns.relplot(x=y_test, y=y_pred, col=X_test['Surgery Type'], col_wrap=3)"
   ]
  }
 ],
 "metadata": {
  "kernelspec": {
   "display_name": "base",
   "language": "python",
   "name": "python3"
  },
  "language_info": {
   "codemirror_mode": {
    "name": "ipython",
    "version": 3
   },
   "file_extension": ".py",
   "mimetype": "text/x-python",
   "name": "python",
   "nbconvert_exporter": "python",
   "pygments_lexer": "ipython3",
   "version": "3.9.12"
  },
  "orig_nbformat": 4
 },
 "nbformat": 4,
 "nbformat_minor": 2
}
